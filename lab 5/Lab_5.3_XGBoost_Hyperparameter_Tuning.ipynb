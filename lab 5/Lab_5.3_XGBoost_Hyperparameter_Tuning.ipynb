{
 "cells": [
  {
   "cell_type": "markdown",
   "id": "c0a45662",
   "metadata": {},
   "source": [
    "# Лабораторная работа 5.3\n",
    "\n",
    "Подбор гиперпараметров XGBoost с использованием RandomizedSearchCV и Hyperopt (TPE)"
   ]
  },
  {
   "cell_type": "code",
   "execution_count": 2,
   "id": "6ae78668",
   "metadata": {},
   "outputs": [],
   "source": [
    "import pandas as pd\n",
    "import numpy as np\n",
    "import time\n",
    "from xgboost import XGBClassifier\n",
    "from sklearn.model_selection import train_test_split, RandomizedSearchCV\n",
    "from sklearn.metrics import f1_score\n",
    "from scipy.stats import uniform, randint\n",
    "from hyperopt import fmin, tpe, hp, Trials, STATUS_OK"
   ]
  },
  {
   "cell_type": "code",
   "execution_count": 3,
   "id": "c0f4ffa0",
   "metadata": {},
   "outputs": [],
   "source": [
    "df = pd.read_csv(\"diabetes.csv\")\n",
    "X = df.drop(\"Outcome\", axis=1)\n",
    "y = df[\"Outcome\"]\n",
    "X_train, X_test, y_train, y_test = train_test_split(X, y, test_size=0.3, random_state=42, stratify=y)"
   ]
  },
  {
   "cell_type": "markdown",
   "id": "51264d96",
   "metadata": {},
   "source": [
    "## 1. Подбор с использованием RandomizedSearchCV"
   ]
  },
  {
   "cell_type": "code",
   "execution_count": 4,
   "id": "3a687aaa",
   "metadata": {},
   "outputs": [
    {
     "name": "stdout",
     "output_type": "stream",
     "text": [
      "RandomizedSearchCV F1-score: 0.5874, Time: 3.66s\n",
      "Best Params: {'colsample_bytree': np.float64(0.6448757264568841), 'learning_rate': np.float64(0.058366386176201324), 'max_depth': 4, 'n_estimators': 94, 'reg_alpha': np.float64(0.295633685837714), 'reg_lambda': np.float64(0.10549425983027061), 'subsample': np.float64(0.7282672852414551)}\n"
     ]
    }
   ],
   "source": [
    "param_dist = {\n",
    "    'n_estimators': randint(50, 200),\n",
    "    'max_depth': randint(3, 10),\n",
    "    'learning_rate': uniform(0.01, 0.3),\n",
    "    'subsample': uniform(0.5, 0.5),\n",
    "    'colsample_bytree': uniform(0.5, 0.5),\n",
    "    'reg_alpha': uniform(0, 1),\n",
    "    'reg_lambda': uniform(0, 1)\n",
    "}\n",
    "\n",
    "xgb = XGBClassifier(eval_metric='logloss')\n",
    "start = time.time()\n",
    "random_search = RandomizedSearchCV(xgb, param_distributions=param_dist, n_iter=20, scoring='f1', cv=3, random_state=42, n_jobs=-1)\n",
    "random_search.fit(X_train, y_train)\n",
    "random_time = time.time() - start\n",
    "\n",
    "best_model_random = random_search.best_estimator_\n",
    "y_pred_random = best_model_random.predict(X_test)\n",
    "f1_random = f1_score(y_test, y_pred_random)\n",
    "print(f\"RandomizedSearchCV F1-score: {f1_random:.4f}, Time: {random_time:.2f}s\")\n",
    "print(\"Best Params:\", random_search.best_params_)"
   ]
  },
  {
   "cell_type": "markdown",
   "id": "3ef45332",
   "metadata": {},
   "source": [
    "## 2. Подбор с использованием Hyperopt (TPE)"
   ]
  },
  {
   "cell_type": "code",
   "execution_count": 5,
   "id": "a021a680",
   "metadata": {},
   "outputs": [
    {
     "name": "stdout",
     "output_type": "stream",
     "text": [
      "100%|██████████████████████████████████████████████████████████████████████| 20/20 [00:01<00:00, 16.12trial/s, best loss: -0.6225165562913907]\n",
      "Best Hyperopt Params: {'colsample_bytree': np.float64(0.7862468704907701), 'learning_rate': np.float64(0.05995859136138078), 'max_depth': np.float64(8.0), 'n_estimators': np.float64(182.0), 'reg_alpha': np.float64(0.08885184806583746), 'reg_lambda': np.float64(0.4671485658354062), 'subsample': np.float64(0.5337114618970547)}\n",
      "TPE Optimization Time: 1.25s\n"
     ]
    }
   ],
   "source": [
    "\n",
    "# Поиск по гиперпараметрам\n",
    "space = {\n",
    "    'n_estimators': hp.quniform('n_estimators', 50, 200, 1),\n",
    "    'max_depth': hp.quniform('max_depth', 3, 10, 1),\n",
    "    'learning_rate': hp.uniform('learning_rate', 0.01, 0.3),\n",
    "    'subsample': hp.uniform('subsample', 0.5, 1.0),\n",
    "    'colsample_bytree': hp.uniform('colsample_bytree', 0.5, 1.0),\n",
    "    'reg_alpha': hp.uniform('reg_alpha', 0, 1.0),\n",
    "    'reg_lambda': hp.uniform('reg_lambda', 0, 1.0)\n",
    "}\n",
    "\n",
    "# Целевая функция для оптимизации\n",
    "def objective(params):\n",
    "    model = XGBClassifier(\n",
    "        eval_metric='logloss',\n",
    "        n_estimators=int(params['n_estimators']),\n",
    "        max_depth=int(params['max_depth']),\n",
    "        learning_rate=params['learning_rate'],\n",
    "        subsample=params['subsample'],\n",
    "        colsample_bytree=params['colsample_bytree'],\n",
    "        reg_alpha=params['reg_alpha'],\n",
    "        reg_lambda=params['reg_lambda']\n",
    "    )\n",
    "    model.fit(X_train, y_train)\n",
    "    y_pred = model.predict(X_test)\n",
    "    score = f1_score(y_test, y_pred)\n",
    "    return {'loss': -score, 'status': STATUS_OK}\n",
    "\n",
    "# Запуск TPE оптимизации\n",
    "start = time.time()\n",
    "trials = Trials()\n",
    "\n",
    "# Используем default_rng — работает корректно с Hyperopt\n",
    "from numpy.random import default_rng\n",
    "rng = default_rng(42)\n",
    "\n",
    "best = fmin(fn=objective, space=space, algo=tpe.suggest,\n",
    "            max_evals=20, trials=trials, rstate=rng)\n",
    "\n",
    "tpe_time = time.time() - start\n",
    "\n",
    "print(\"Best Hyperopt Params:\", best)\n",
    "print(f\"TPE Optimization Time: {tpe_time:.2f}s\")\n"
   ]
  }
 ],
 "metadata": {
  "kernelspec": {
   "display_name": "Python 3 (ipykernel)",
   "language": "python",
   "name": "python3"
  },
  "language_info": {
   "codemirror_mode": {
    "name": "ipython",
    "version": 3
   },
   "file_extension": ".py",
   "mimetype": "text/x-python",
   "name": "python",
   "nbconvert_exporter": "python",
   "pygments_lexer": "ipython3",
   "version": "3.13.2"
  }
 },
 "nbformat": 4,
 "nbformat_minor": 5
}
